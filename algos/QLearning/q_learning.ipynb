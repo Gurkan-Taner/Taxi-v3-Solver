{
 "cells": [
  {
   "cell_type": "code",
   "execution_count": null,
   "metadata": {},
   "outputs": [],
   "source": [
    "import gymnasium as gym\n",
    "import numpy as np\n",
    "import tqdm"
   ]
  },
  {
   "cell_type": "code",
   "execution_count": null,
   "metadata": {},
   "outputs": [],
   "source": [
    "env = gym.make(\"Taxi-v3\")"
   ]
  },
  {
   "cell_type": "code",
   "execution_count": null,
   "metadata": {},
   "outputs": [
    {
     "name": "stdout",
     "output_type": "stream",
     "text": [
      "observation: 153\n",
      "info: {'prob': 1.0, 'action_mask': array([1, 1, 1, 0, 0, 0], dtype=int8)}\n"
     ]
    }
   ],
   "source": [
    "observation, info = env.reset()\n",
    "print(f'observation: {observation}')\n",
    "print(f'info: {info}')"
   ]
  },
  {
   "cell_type": "code",
   "execution_count": null,
   "metadata": {},
   "outputs": [],
   "source": [
    "n_observations = env.observation_space.n\n",
    "n_actions = env.action_space.n\n",
    "\n",
    "print(f'Available actions: {n_actions}')\n",
    "print(f'Available observations: {n_observations}')"
   ]
  },
  {
   "cell_type": "code",
   "execution_count": null,
   "metadata": {},
   "outputs": [],
   "source": [
    "Q_matrix = np.zeros((n_observations, n_actions))"
   ]
  },
  {
   "cell_type": "code",
   "execution_count": 6,
   "metadata": {},
   "outputs": [],
   "source": [
    "learning_rate = 0.4\n",
    "discount_factor = 0.6\n",
    "epsilon = 0.7\n",
    "min_epsilon = 0.2\n",
    "decay_rate = 1e-4"
   ]
  },
  {
   "cell_type": "code",
   "execution_count": null,
   "metadata": {},
   "outputs": [
    {
     "name": "stderr",
     "output_type": "stream",
     "text": [
      "  0%|          | 0/1000 [00:00<?, ?it/s]"
     ]
    },
    {
     "name": "stderr",
     "output_type": "stream",
     "text": [
      "100%|██████████| 1000/1000 [00:06<00:00, 154.59it/s]"
     ]
    },
    {
     "name": "stdout",
     "output_type": "stream",
     "text": [
      "Training ended with Q matrix:\n",
      "[[  0.           0.           0.           0.           0.\n",
      "    0.        ]\n",
      " [ -2.41837066  -2.3639511   -2.41837066  -2.3639511   -2.27325184\n",
      "  -11.3639511 ]\n",
      " [ -1.870144    -1.45024     -1.870144    -1.45024     -0.7504\n",
      "  -10.45024   ]\n",
      " ...\n",
      " [ -0.7504       0.416       -0.7504      -1.45024     -9.7504\n",
      "   -9.7504    ]\n",
      " [ -2.27325184  -2.1220864   -2.27325184  -2.1220864  -11.27325184\n",
      "  -11.27325184]\n",
      " [  5.6          2.36         5.6         11.          -3.4\n",
      "   -3.4       ]]\n"
     ]
    },
    {
     "name": "stderr",
     "output_type": "stream",
     "text": [
      "\n"
     ]
    }
   ],
   "source": [
    "for e in tqdm.tqdm(range(10000)):\n",
    "     current_state, _ = env.reset()\n",
    "     done = False\n",
    "\n",
    "     while not done:\n",
    "         if np.random.uniform(0, 1) < epsilon:\n",
    "             action = env.action_space.sample()\n",
    "\n",
    "         else:\n",
    "             action = np.argmax(Q_matrix[current_state])\n",
    "\n",
    "         next_state, reward, done, _, _ = env.step(action)\n",
    "\n",
    "         Q_matrix[current_state, action] = (1.0 - learning_rate) * Q_matrix[current_state, action] + learning_rate * (reward + discount_factor * max(Q_matrix[next_state]))\n",
    "         current_state = next_state\n",
    "\n",
    "     epsilon = max(min_epsilon, np.exp(-decay_rate * e))\n",
    "\n",
    "print('Training ended with Q matrix:')\n",
    "print(Q_matrix)"
   ]
  },
  {
   "cell_type": "code",
   "execution_count": 9,
   "metadata": {},
   "outputs": [
    {
     "name": "stderr",
     "output_type": "stream",
     "text": [
      "100%|██████████| 10/10 [00:00<00:00, 3095.20it/s]"
     ]
    },
    {
     "name": "stdout",
     "output_type": "stream",
     "text": [
      "Nombre moyen d'étapes: 12.30\n",
      "Récompense moyenne: 8.70\n"
     ]
    },
    {
     "name": "stderr",
     "output_type": "stream",
     "text": [
      "\n"
     ]
    }
   ],
   "source": [
    "episodes = 10\n",
    "total_reward = 0\n",
    "total_step = 0\n",
    "\n",
    "for _ in tqdm.tqdm(range(episodes)):\n",
    "    done = False\n",
    "    episode_reward = 0\n",
    "    episode_step = 0\n",
    "    current_state, _ = env.reset()\n",
    "\n",
    "    while not done:\n",
    "        action = np.argmax(Q_matrix[current_state])\n",
    "        current_state, reward, done, _, _ = env.step(action)\n",
    "        episode_reward += reward\n",
    "        episode_step += 1\n",
    "\n",
    "\n",
    "    total_step += episode_step\n",
    "    total_reward += episode_reward\n",
    "\n",
    "avg_steps = total_step / episodes\n",
    "avg_rewards = total_reward / episodes\n",
    "\n",
    "print(f\"Nombre moyen d'étapes: {avg_steps:.2f}\")\n",
    "print(f\"Récompense moyenne: {avg_rewards:.2f}\")\n",
    "\n",
    "env.close()"
   ]
  }
 ],
 "metadata": {
  "kernelspec": {
   "display_name": ".venv",
   "language": "python",
   "name": "python3"
  },
  "language_info": {
   "codemirror_mode": {
    "name": "ipython",
    "version": 3
   },
   "file_extension": ".py",
   "mimetype": "text/x-python",
   "name": "python",
   "nbconvert_exporter": "python",
   "pygments_lexer": "ipython3",
   "version": "3.13.1"
  }
 },
 "nbformat": 4,
 "nbformat_minor": 2
}
