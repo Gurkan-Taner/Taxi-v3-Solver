{
 "cells": [
  {
   "cell_type": "code",
   "execution_count": 14,
   "metadata": {},
   "outputs": [],
   "source": [
    "import gymnasium as gym\n",
    "import numpy as np\n",
    "import tqdm"
   ]
  },
  {
   "cell_type": "code",
   "execution_count": 15,
   "metadata": {},
   "outputs": [],
   "source": [
    "env = gym.make(\"Taxi-v3\")"
   ]
  },
  {
   "cell_type": "code",
   "execution_count": 16,
   "metadata": {},
   "outputs": [
    {
     "name": "stdout",
     "output_type": "stream",
     "text": [
      "observation: 404\n",
      "info: {'prob': 1.0, 'action_mask': array([0, 1, 0, 0, 0, 0], dtype=int8)}\n"
     ]
    }
   ],
   "source": [
    "observation, info = env.reset()\n",
    "print(f'observation: {observation}')\n",
    "print(f'info: {info}')"
   ]
  },
  {
   "cell_type": "code",
   "execution_count": 17,
   "metadata": {},
   "outputs": [
    {
     "name": "stdout",
     "output_type": "stream",
     "text": [
      "Available actions: 6\n",
      "Available observations: 500\n"
     ]
    }
   ],
   "source": [
    "n_observations = env.observation_space.n\n",
    "n_actions = env.action_space.n\n",
    "\n",
    "print(f'Available actions: {n_actions}')\n",
    "print(f'Available observations: {n_observations}')"
   ]
  },
  {
   "cell_type": "code",
   "execution_count": 18,
   "metadata": {},
   "outputs": [],
   "source": [
    "Q_matrix = np.zeros((n_observations, n_actions))"
   ]
  },
  {
   "cell_type": "code",
   "execution_count": null,
   "metadata": {},
   "outputs": [],
   "source": [
    "learning_rate = 0.4\n",
    "discount_factor = 0.6\n",
    "epsilon = 0.7\n",
    "min_epsilon = 0.2\n",
    "decay_rate = 1e-4"
   ]
  },
  {
   "cell_type": "code",
   "execution_count": 20,
   "metadata": {},
   "outputs": [
    {
     "name": "stderr",
     "output_type": "stream",
     "text": [
      "100%|██████████| 10000/10000 [00:10<00:00, 995.60it/s]"
     ]
    },
    {
     "name": "stdout",
     "output_type": "stream",
     "text": [
      "Training ended with Q matrix:\n",
      "[[  0.           0.           0.           0.           0.\n",
      "    0.        ]\n",
      " [ -2.87195709  -2.67422442  -2.87195709  -2.67422442  -2.39174917\n",
      "  -11.67422442]\n",
      " [ -1.411733    -0.58819     -1.411733    -0.58819      0.5883\n",
      "   -9.58819   ]\n",
      " ...\n",
      " [  0.5883       2.269        0.5883      -0.58819     -8.4117\n",
      "   -8.4117    ]\n",
      " [ -2.39174917  -1.9882131   -2.39174917  -1.9882131  -11.39174917\n",
      "  -11.39174917]\n",
      " [  8.1          4.67         8.1         13.          -0.9\n",
      "   -0.9       ]]\n"
     ]
    },
    {
     "name": "stderr",
     "output_type": "stream",
     "text": [
      "\n"
     ]
    }
   ],
   "source": [
    "for e in tqdm.tqdm(range(10000)):\n",
    "     current_state, _ = env.reset()\n",
    "     done = False\n",
    "\n",
    "     while not done:\n",
    "         if np.random.uniform(0, 1) < epsilon:\n",
    "             action = env.action_space.sample()\n",
    "\n",
    "         else:\n",
    "             action = np.argmax(Q_matrix[current_state])\n",
    "\n",
    "         next_state, reward, done, _, _ = env.step(action)\n",
    "\n",
    "         Q_matrix[current_state, action] = (1.0 - learning_rate) * Q_matrix[current_state, action] + learning_rate * (reward + discount_factor * max(Q_matrix[next_state]))\n",
    "         current_state = next_state\n",
    "\n",
    "     epsilon = max(min_epsilon, np.exp(-decay_rate * e))\n",
    "\n",
    "print('Training ended with Q matrix:')\n",
    "print(Q_matrix)"
   ]
  },
  {
   "cell_type": "code",
   "execution_count": null,
   "metadata": {},
   "outputs": [
    {
     "name": "stderr",
     "output_type": "stream",
     "text": [
      "100%|██████████| 10/10 [00:36<00:00,  3.70s/it]"
     ]
    },
    {
     "name": "stdout",
     "output_type": "stream",
     "text": [
      "Nombre moyen d'étapes: 13.70\n",
      "Récompense moyenne: 7.30\n"
     ]
    },
    {
     "name": "stderr",
     "output_type": "stream",
     "text": [
      "\n"
     ]
    },
    {
     "ename": "",
     "evalue": "",
     "output_type": "error",
     "traceback": [
      "\u001b[1;31mThe Kernel crashed while executing code in the current cell or a previous cell. \n",
      "\u001b[1;31mPlease review the code in the cell(s) to identify a possible cause of the failure. \n",
      "\u001b[1;31mClick <a href='https://aka.ms/vscodeJupyterKernelCrash'>here</a> for more info. \n",
      "\u001b[1;31mView Jupyter <a href='command:jupyter.viewOutput'>log</a> for further details."
     ]
    }
   ],
   "source": [
    "episodes = 10\n",
    "total_reward = 0\n",
    "total_step = 0\n",
    "env = gym.make(\"Taxi-v3\", render_mode=\"human\")\n",
    "\n",
    "for _ in tqdm.tqdm(range(episodes)):\n",
    "    done = False\n",
    "    episode_reward = 0\n",
    "    episode_step = 0\n",
    "    current_state, _ = env.reset()\n",
    "\n",
    "    while not done:\n",
    "        action = np.argmax(Q_matrix[current_state])\n",
    "        current_state, reward, done, _, _ = env.step(action)\n",
    "        episode_reward += reward\n",
    "        episode_step += 1\n",
    "\n",
    "\n",
    "    total_step += episode_step\n",
    "    total_reward += episode_reward\n",
    "\n",
    "avg_steps = total_step / episodes\n",
    "avg_rewards = total_reward / episodes\n",
    "\n",
    "print(f\"Nombre moyen d'étapes: {avg_steps:.2f}\")\n",
    "print(f\"Récompense moyenne: {avg_rewards:.2f}\")\n",
    "\n",
    "env.close()"
   ]
  }
 ],
 "metadata": {
  "kernelspec": {
   "display_name": ".venv",
   "language": "python",
   "name": "python3"
  },
  "language_info": {
   "codemirror_mode": {
    "name": "ipython",
    "version": 3
   },
   "file_extension": ".py",
   "mimetype": "text/x-python",
   "name": "python",
   "nbconvert_exporter": "python",
   "pygments_lexer": "ipython3",
   "version": "3.13.1"
  }
 },
 "nbformat": 4,
 "nbformat_minor": 2
}
